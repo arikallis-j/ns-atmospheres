{
 "cells": [
  {
   "cell_type": "markdown",
   "metadata": {},
   "source": [
    "# Библиотека __atmons__"
   ]
  },
  {
   "cell_type": "code",
   "execution_count": 2,
   "metadata": {},
   "outputs": [],
   "source": [
    "from atmons import *\n",
    "config, grid = loader()"
   ]
  },
  {
   "cell_type": "code",
   "execution_count": 3,
   "metadata": {},
   "outputs": [],
   "source": [
    "config['spec_key'] = 'be'\n",
    "# config['spec_key'] = 'wfc'\n",
    "grid['n_nu'] = 30\n",
    "grid['n_theta'] = 6\n",
    "grid['n_phi'] = 12\n",
    "\n",
    "dumper('paper', config, grid)\n",
    "config, grid = loader(\"paper\")"
   ]
  },
  {
   "cell_type": "markdown",
   "metadata": {},
   "source": [
    "### Залив данных в YAML"
   ]
  },
  {
   "cell_type": "code",
   "execution_count": 143,
   "metadata": {},
   "outputs": [
    {
     "data": {
      "text/plain": [
       "[13.7, 13.85, 14.0, 14.15, 14.3, 14.45, 14.6, 14.75, 14.9]"
      ]
     },
     "execution_count": 143,
     "metadata": {},
     "output_type": "execute_result"
    }
   ],
   "source": [
    "LOG_G"
   ]
  },
  {
   "cell_type": "code",
   "execution_count": 144,
   "metadata": {},
   "outputs": [],
   "source": [
    "EN1_s1 = [[[0 for k in range(300)] for j in range(len(LOG_G))] for i in range(len(FLUX_REL_SHORT))]\n",
    "EN2_s1 = [[[0 for k in range(300)] for j in range(len(LOG_G))] for i in range(len(FLUX_REL_SHORT))]\n",
    "B_INT_s1 = [[[0 for k in range(300)] for j in range(len(LOG_G))] for i in range(len(FLUX_REL_SHORT))]\n",
    "\n",
    "for k_g in range(len(LOG_G)):   \n",
    "    lg = LOG_G[k_g]\n",
    "    fact_lg = round((lg - int(lg))*100)\n",
    "    if fact_lg % 10 == 0:\n",
    "        fact_lg = fact_lg // 10\n",
    "    with open(f\"spectra/spph_s1/spphS1_{fact_lg}.dat\", 'r') as file:\n",
    "        counter = 0\n",
    "        for line in file:\n",
    "            line = line[:len(line)-1:].split('   ')\n",
    "            nums = line[1], line[2], line[3]\n",
    "            sci_nums = []\n",
    "            for num in nums:\n",
    "                num = num.split('D')\n",
    "                sci_num = float(num[0]) * 10**int(num[1])\n",
    "                sci_nums.append(sci_num)\n",
    "            en1, en2, b_int = sci_nums\n",
    "            k_lum = counter // 300 \n",
    "            k_en = counter % 300\n",
    "            EN1_s1[k_lum][k_g][k_en] = en1\n",
    "            EN2_s1[k_lum][k_g][k_en] = en2\n",
    "            B_INT_s1[k_lum][k_g][k_en] = b_int\n",
    "            counter += 1\n",
    "\n",
    "EN1_he = [[[0 for k in range(300)] for j in range(len(LOG_G))] for i in range(len(FLUX_REL_SHORT))]\n",
    "EN2_he = [[[0 for k in range(300)] for j in range(len(LOG_G))] for i in range(len(FLUX_REL_SHORT))]\n",
    "B_INT_he = [[[0 for k in range(300)] for j in range(len(LOG_G))] for i in range(len(FLUX_REL_SHORT))]\n",
    "\n",
    "for k_g in range(len(LOG_G)):   \n",
    "    lg = LOG_G[k_g]\n",
    "    fact_lg = round((lg - int(lg))*100)\n",
    "    if fact_lg % 10 == 0:\n",
    "        fact_lg = fact_lg // 10\n",
    "    with open(f\"spectra/spph_he/spphHe_{fact_lg}.dat\", 'r') as file:\n",
    "        counter = 0\n",
    "        for line in file:\n",
    "            line = line[:len(line)-1:].split('   ')\n",
    "            nums = line[1], line[2], line[3]\n",
    "            sci_nums = []\n",
    "            for num in nums:\n",
    "                num = num.split('D')\n",
    "                sci_num = float(num[0]) * 10**int(num[1])\n",
    "                sci_nums.append(sci_num)\n",
    "            en1, en2, b_int = sci_nums\n",
    "            k_lum = counter // 300 \n",
    "            k_en = counter % 300\n",
    "            EN1_he[k_lum][k_g][k_en] = en1\n",
    "            EN2_he[k_lum][k_g][k_en] = en2\n",
    "            B_INT_he[k_lum][k_g][k_en] = b_int\n",
    "            counter += 1\n",
    "\n",
    "EN1_s001 = [[[0 for k in range(300)] for j in range(len(LOG_G))] for i in range(len(FLUX_REL_SHORT))]\n",
    "EN2_s001 = [[[0 for k in range(300)] for j in range(len(LOG_G))] for i in range(len(FLUX_REL_SHORT))]\n",
    "B_INT_s001 = [[[0 for k in range(300)] for j in range(len(LOG_G))] for i in range(len(FLUX_REL_SHORT))]\n",
    "\n",
    "for k_g in range(len(LOG_G)):   \n",
    "    lg = LOG_G[k_g]\n",
    "    fact_lg = round((lg - int(lg))*100)\n",
    "    if fact_lg % 10 == 0:\n",
    "        fact_lg = fact_lg // 10\n",
    "    with open(f\"spectra/spph_s001/spphS001_{fact_lg}.dat\", 'r') as file:\n",
    "        counter = 0\n",
    "        for line in file:\n",
    "            line = line[:len(line)-1:].split('   ')\n",
    "            nums = line[1], line[2], line[3]\n",
    "            sci_nums = []\n",
    "            for num in nums:\n",
    "                num = num.split('D')\n",
    "                sci_num = float(num[0]) * 10**int(num[1])\n",
    "                sci_nums.append(sci_num)\n",
    "            en1, en2, b_int = sci_nums\n",
    "            k_lum = counter // 300 \n",
    "            k_en = counter % 300\n",
    "            EN1_s001[k_lum][k_g][k_en] = en1\n",
    "            EN2_s001[k_lum][k_g][k_en] = en2\n",
    "            B_INT_s001[k_lum][k_g][k_en] = b_int\n",
    "            counter += 1"
   ]
  },
  {
   "cell_type": "code",
   "execution_count": 145,
   "metadata": {},
   "outputs": [],
   "source": [
    "spec_ph = {\n",
    "    's1':B_INT_s1,\n",
    "    'he':B_INT_he,\n",
    "    's001':B_INT_s001,\n",
    "}\n",
    "with open(f\"spectra/spec_ph.yml\", 'w') as file:\n",
    "    yaml.dump(spec_ph, file)\n"
   ]
  },
  {
   "cell_type": "code",
   "execution_count": 4,
   "metadata": {},
   "outputs": [],
   "source": [
    "with open(f\"spectra/spec_ph.yml\", 'r') as file:\n",
    "    spec = yaml.safe_load(file)"
   ]
  },
  {
   "cell_type": "code",
   "execution_count": 5,
   "metadata": {},
   "outputs": [],
   "source": [
    "B_int_s1 = np.array(spec['s1'])\n",
    "B_int_he = np.array(spec['he'])\n",
    "B_int_s001 = np.array(spec['s001'])"
   ]
  },
  {
   "cell_type": "code",
   "execution_count": 9,
   "metadata": {},
   "outputs": [
    {
     "name": "stdout",
     "output_type": "stream",
     "text": [
      "[[4.41757810e+29 5.76341147e+29 7.51572776e+29 9.82266224e+29\n",
      "  1.28072878e+30 1.67257466e+30 2.18075207e+30 2.84746214e+30\n",
      "  3.71597717e+30]\n",
      " [6.07975201e+29 7.93974841e+29 1.03559702e+30 1.35284936e+30\n",
      "  1.76751226e+30 2.30552448e+30 3.00687273e+30 3.91897657e+30\n",
      "  5.10864902e+30]\n",
      " [7.61941344e+29 9.94960644e+29 1.29855990e+30 1.69690383e+30\n",
      "  2.21173379e+30 2.88756380e+30 3.76189372e+30 4.90682711e+30\n",
      "  6.39670008e+30]\n",
      " [1.04889943e+30 1.36988375e+30 1.78309467e+30 2.33266687e+30\n",
      "  3.03405320e+30 3.96304946e+30 5.14896157e+30 6.71703469e+30\n",
      "  8.74440137e+30]\n",
      " [1.31509613e+30 1.71531116e+30 2.21170940e+30 2.91307896e+30\n",
      "  3.76145320e+30 4.93701801e+30 6.37948045e+30 8.35441742e+30\n",
      "  1.08591308e+31]\n",
      " [1.55963280e+30 2.03174218e+30 2.62387525e+30 3.44291898e+30\n",
      "  4.44333018e+30 5.81905623e+30 7.52210789e+30 9.81325950e+30\n",
      "  1.27434502e+31]\n",
      " [1.67488464e+30 2.17825301e+30 2.81526585e+30 3.69004002e+30\n",
      "  4.76944581e+30 6.22898097e+30 8.05155396e+30 1.04955218e+31\n",
      "  1.36228423e+31]\n",
      " [1.78357061e+30 2.31997401e+30 3.00070270e+30 3.92177008e+30\n",
      "  5.07237346e+30 6.61359422e+30 8.55102646e+30 1.11264769e+31\n",
      "  1.44290831e+31]\n",
      " [1.88732020e+30 2.45146483e+30 3.17255278e+30 4.14246481e+30\n",
      "  5.35348535e+30 6.97892641e+30 9.02353248e+30 1.17113130e+31\n",
      "  1.51904099e+31]\n",
      " [1.98393339e+30 2.58029233e+30 3.33387039e+30 4.34182116e+30\n",
      "  5.62221317e+30 7.31171731e+30 9.45310381e+30 1.22907968e+31\n",
      "  1.59230974e+31]\n",
      " [2.07394871e+30 2.69238813e+30 3.48424017e+30 4.52923387e+30\n",
      "  5.86738275e+30 7.62075692e+30 9.86079738e+30 1.28037425e+31\n",
      "  1.65786221e+31]\n",
      " [2.15668603e+30 2.79126690e+30 3.61511682e+30 4.70338163e+30\n",
      "  6.07201687e+30 7.90380779e+30 1.02170233e+31 1.32623816e+31\n",
      "  1.71290854e+31]\n",
      " [2.22291408e+30 2.88259864e+30 3.72947174e+30 4.84777699e+30\n",
      "  6.26751529e+30 8.14081038e+30 1.05287069e+31 1.36605459e+31\n",
      "  1.76864020e+31]\n",
      " [2.27649745e+30 2.95046386e+30 3.81835756e+30 4.95782941e+30\n",
      "  6.41784442e+30 8.32871452e+30 1.07815816e+31 1.39893452e+31\n",
      "  1.80483367e+31]\n",
      " [2.29994699e+30 2.98117452e+30 3.86664319e+30 5.02015952e+30\n",
      "  6.50593589e+30 8.44641490e+30 1.09453064e+31 1.42040435e+31\n",
      "  1.84011892e+31]\n",
      " [2.29241046e+30 2.97840371e+30 3.84594263e+30 5.02126846e+30\n",
      "  6.48794011e+30 8.46016407e+30 1.09901469e+31 1.42549195e+31\n",
      "  1.84937748e+31]\n",
      " [2.27467268e+30 2.95896126e+30 3.84584418e+30 5.00036835e+30\n",
      "  6.50427245e+30 8.45507040e+30 1.09882573e+31 1.42669620e+31\n",
      "  1.85277776e+31]\n",
      " [2.23552069e+30 2.91761955e+30 3.80394260e+30 4.94997366e+30\n",
      "  6.45557488e+30 8.40865580e+30 1.09471779e+31 1.42441862e+31\n",
      "  1.85120689e+31]\n",
      " [2.16355799e+30 2.83743688e+30 3.72595835e+30 4.86516778e+30\n",
      "  6.37054024e+30 8.30574563e+30 1.08555302e+31 1.41420478e+31\n",
      "  1.84322233e+31]\n",
      " [2.18413982e+30 2.97964459e+30 3.56658972e+30 4.70365769e+30\n",
      "  6.11414850e+30 8.14403823e+30 1.06895046e+31 1.39726137e+31\n",
      "  1.82514924e+31]\n",
      " [2.18413982e+30 2.97964459e+30 3.56658972e+30 4.87452059e+30\n",
      "  5.81464093e+30 7.82738557e+30 1.03771294e+31 1.36659713e+31\n",
      "  1.79603520e+31]\n",
      " [2.18413982e+30 2.97964459e+30 3.56658972e+30 4.87452059e+30\n",
      "  5.81464093e+30 7.82738557e+30 9.83338677e+30 1.31549718e+31\n",
      "  1.74231337e+31]]\n"
     ]
    }
   ],
   "source": [
    "print(B_int_he.mean(axis=2))"
   ]
  },
  {
   "cell_type": "code",
   "execution_count": null,
   "metadata": {},
   "outputs": [],
   "source": []
  }
 ],
 "metadata": {
  "kernelspec": {
   "display_name": "Python 3",
   "language": "python",
   "name": "python3"
  },
  "language_info": {
   "codemirror_mode": {
    "name": "ipython",
    "version": 3
   },
   "file_extension": ".py",
   "mimetype": "text/x-python",
   "name": "python",
   "nbconvert_exporter": "python",
   "pygments_lexer": "ipython3",
   "version": "3.10.12"
  }
 },
 "nbformat": 4,
 "nbformat_minor": 2
}
