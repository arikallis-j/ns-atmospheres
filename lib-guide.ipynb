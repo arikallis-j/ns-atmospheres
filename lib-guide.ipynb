{
 "cells": [
  {
   "cell_type": "markdown",
   "metadata": {},
   "source": [
    "# Библиотека __atmons__"
   ]
  },
  {
   "cell_type": "markdown",
   "metadata": {},
   "source": [
    "### Импорт библиотеки"
   ]
  },
  {
   "cell_type": "code",
   "execution_count": 1,
   "metadata": {},
   "outputs": [],
   "source": [
    "from atmons import *\n",
    "# from atmons.cli import *\n",
    "# from atmons.ns import *"
   ]
  },
  {
   "cell_type": "markdown",
   "metadata": {},
   "source": [
    "### Создание собственных config-файлов"
   ]
  },
  {
   "cell_type": "code",
   "execution_count": 2,
   "metadata": {},
   "outputs": [],
   "source": [
    "config, grid = loader()"
   ]
  },
  {
   "cell_type": "code",
   "execution_count": 3,
   "metadata": {},
   "outputs": [
    {
     "data": {
      "text/plain": [
       "{'name': 'J0000+0000',\n",
       " 'fc_key': 1,\n",
       " 'flux_key': 1,\n",
       " 'spec_key': 'wfc',\n",
       " 'w_func': 'const',\n",
       " 'chem': 's1',\n",
       " 'rel': False,\n",
       " 'r_ns': 12.0,\n",
       " 'm_ns': 1.5,\n",
       " 'v_rot': 700.0,\n",
       " 'i_ang': 60.0,\n",
       " 'th_star': 45.0,\n",
       " 'w_par': 1}"
      ]
     },
     "execution_count": 3,
     "metadata": {},
     "output_type": "execute_result"
    }
   ],
   "source": [
    "config"
   ]
  },
  {
   "cell_type": "code",
   "execution_count": 4,
   "metadata": {},
   "outputs": [
    {
     "data": {
      "text/plain": [
       "{'n_phi': 120,\n",
       " 'n_theta': 60,\n",
       " 'n_nu': 500,\n",
       " 'rng_phi': [0, 360],\n",
       " 'rng_theta': [0, 180],\n",
       " 'rng_erg': [0.1, 50.0],\n",
       " 'unnull': True,\n",
       " 'zsch_key': False}"
      ]
     },
     "execution_count": 4,
     "metadata": {},
     "output_type": "execute_result"
    }
   ],
   "source": [
    "grid"
   ]
  },
  {
   "cell_type": "code",
   "execution_count": 5,
   "metadata": {},
   "outputs": [],
   "source": [
    "config['chem'] = 'he'\n",
    "config['i_ang'] = 30\n",
    "grid['n_nu'] = 1000\n",
    "\n",
    "dumper('test', config, grid)"
   ]
  },
  {
   "cell_type": "markdown",
   "metadata": {},
   "source": [
    "### Создание модели по config-файлам"
   ]
  },
  {
   "cell_type": "code",
   "execution_count": 6,
   "metadata": {},
   "outputs": [],
   "source": [
    "config, grid = loader(\"test\")\n",
    "ns = NeurtonStar(config, grid)"
   ]
  },
  {
   "cell_type": "markdown",
   "metadata": {},
   "source": [
    "### Параметры нейтронной звезды"
   ]
  },
  {
   "cell_type": "code",
   "execution_count": 7,
   "metadata": {},
   "outputs": [
    {
     "data": {
      "text/plain": [
       "['r',\n",
       " 'm',\n",
       " 'r_eq',\n",
       " 'm_cor',\n",
       " 'R',\n",
       " 'M',\n",
       " 'R_func',\n",
       " 'w_func',\n",
       " 'w_par',\n",
       " 'th_star',\n",
       " 'R_sch',\n",
       " 'zsch',\n",
       " 'g',\n",
       " 'log_g',\n",
       " 'area_0',\n",
       " 'X_hyd',\n",
       " 'kappa_e',\n",
       " 'w_b',\n",
       " 'T_c',\n",
       " 'Flux_edd',\n",
       " 'T_edd',\n",
       " 'Theta_edd',\n",
       " 'Epsilon_edd',\n",
       " 'Lum_edd',\n",
       " 'Lum_obs',\n",
       " 'nu_rot',\n",
       " 'incl_ang',\n",
       " 'sin_i',\n",
       " 'cos_i',\n",
       " 'omega_rot',\n",
       " 'v_cr',\n",
       " 'v_rel',\n",
       " 'M_cor',\n",
       " 'R_eq',\n",
       " 'R_sch_cor',\n",
       " 'chi',\n",
       " 'Omega',\n",
       " 'q_c',\n",
       " 'b_c',\n",
       " 'i_bar',\n",
       " 'I',\n",
       " 'J',\n",
       " 'g_0',\n",
       " 'V_kep',\n",
       " 'V_rot']"
      ]
     },
     "execution_count": 7,
     "metadata": {},
     "output_type": "execute_result"
    }
   ],
   "source": [
    "param = ns.param.__dict__\n",
    "param_keys = []\n",
    "\n",
    "for key, val in param.items():\n",
    "    param_keys.append(key)\n",
    "\n",
    "param_keys"
   ]
  },
  {
   "cell_type": "markdown",
   "metadata": {},
   "source": [
    "### Параметры поверхности"
   ]
  },
  {
   "cell_type": "code",
   "execution_count": 8,
   "metadata": {},
   "outputs": [
    {
     "data": {
      "text/plain": [
       "['r',\n",
       " 'm',\n",
       " 'r_eq',\n",
       " 'm_cor',\n",
       " 'R',\n",
       " 'M',\n",
       " 'R_func',\n",
       " 'w_func',\n",
       " 'w_par',\n",
       " 'th_star',\n",
       " 'R_sch',\n",
       " 'zsch',\n",
       " 'g',\n",
       " 'log_g',\n",
       " 'area_0',\n",
       " 'X_hyd',\n",
       " 'kappa_e',\n",
       " 'w_b',\n",
       " 'T_c',\n",
       " 'Flux_edd',\n",
       " 'T_edd',\n",
       " 'Theta_edd',\n",
       " 'Epsilon_edd',\n",
       " 'Lum_edd',\n",
       " 'Lum_obs',\n",
       " 'nu_rot',\n",
       " 'incl_ang',\n",
       " 'sin_i',\n",
       " 'cos_i',\n",
       " 'omega_rot',\n",
       " 'v_cr',\n",
       " 'v_rel',\n",
       " 'M_cor',\n",
       " 'R_eq',\n",
       " 'R_sch_cor',\n",
       " 'chi',\n",
       " 'Omega',\n",
       " 'q_c',\n",
       " 'b_c',\n",
       " 'i_bar',\n",
       " 'I',\n",
       " 'J',\n",
       " 'g_0',\n",
       " 'V_kep',\n",
       " 'V_rot']"
      ]
     },
     "execution_count": 8,
     "metadata": {},
     "output_type": "execute_result"
    }
   ],
   "source": [
    "surface = ns.surface.__dict__\n",
    "\n",
    "surf_keys = []\n",
    "\n",
    "for key, val in param.items():\n",
    "    surf_keys.append(key)\n",
    "\n",
    "surf_keys"
   ]
  },
  {
   "cell_type": "markdown",
   "metadata": {},
   "source": [
    "### Создание генератора вспышки"
   ]
  },
  {
   "cell_type": "code",
   "execution_count": 11,
   "metadata": {},
   "outputs": [],
   "source": [
    "burst = ns.burst()"
   ]
  },
  {
   "cell_type": "markdown",
   "metadata": {},
   "source": [
    "### Моделирование вспышки"
   ]
  },
  {
   "cell_type": "code",
   "execution_count": 12,
   "metadata": {},
   "outputs": [
    {
     "name": "stdout",
     "output_type": "stream",
     "text": [
      "0.0920982539801047\n",
      "0.13885846137491167\n",
      "0.1853406186866058\n",
      "0.27880907442365677\n",
      "0.3739269241454848\n",
      "0.4670223652326737\n",
      "0.5137136868243141\n",
      "0.5612828537355732\n",
      "0.6074665749757377\n",
      "0.6541315047315982\n",
      "0.7022894280355152\n",
      "0.750109308134149\n",
      "0.8001357065329966\n",
      "0.8506374093621653\n",
      "0.9014511344360263\n",
      "0.9315241477065782\n",
      "0.9547276026940772\n",
      "0.9763366509448934\n",
      "1.0006047382748948\n",
      "1.0255673616177192\n",
      "1.0497588757090415\n",
      "1.0497588757095209\n",
      "1.0497588757095209\n"
     ]
    }
   ],
   "source": [
    "for shot in burst:\n",
    "    print(shot.lum)"
   ]
  },
  {
   "cell_type": "markdown",
   "metadata": {},
   "source": [
    "### Параметры снимка"
   ]
  },
  {
   "cell_type": "code",
   "execution_count": 13,
   "metadata": {},
   "outputs": [
    {
     "data": {
      "text/plain": [
       "['n_model',\n",
       " 'flux',\n",
       " 'Flux',\n",
       " 'T_eff',\n",
       " 'Epsilon_eff',\n",
       " 'Flux_edd_real',\n",
       " 'wwf_T',\n",
       " 'tcf_T',\n",
       " 'tcf_T_E',\n",
       " 'wwf_T_E',\n",
       " 'rho',\n",
       " 'I_e',\n",
       " 'B_Omega',\n",
       " 'B_int',\n",
       " 'B_int_full',\n",
       " 'flux_full',\n",
       " 'dOmega_obs_real',\n",
       " 'area_real',\n",
       " 'cos_sig_E',\n",
       " 'B_int_real',\n",
       " 'flux_real',\n",
       " 'B_real',\n",
       " 'Lum',\n",
       " 'lum',\n",
       " 'E_null',\n",
       " 'w',\n",
       " 'fc',\n",
       " 'rho_eff',\n",
       " 'I_e_eff',\n",
       " 'B_Omega_eff',\n",
       " 'B_int_eff_full',\n",
       " 'flux_eff_full',\n",
       " 'lamda_eff',\n",
       " 'B_int_eff',\n",
       " 'B_int_eff_real',\n",
       " 'B_eff_real_stand',\n",
       " 'B_eff_real',\n",
       " 'flux_eff_real',\n",
       " 'Lum_eff',\n",
       " 'lum_eff',\n",
       " 'w_eff',\n",
       " 'fc_eff']"
      ]
     },
     "execution_count": 13,
     "metadata": {},
     "output_type": "execute_result"
    }
   ],
   "source": [
    "shot = ns.shot.__dict__\n",
    "\n",
    "shot_keys = []\n",
    "\n",
    "for key, val in shot.items():\n",
    "    shot_keys.append(key)\n",
    "\n",
    "shot_keys"
   ]
  }
 ],
 "metadata": {
  "kernelspec": {
   "display_name": "Python 3",
   "language": "python",
   "name": "python3"
  },
  "language_info": {
   "codemirror_mode": {
    "name": "ipython",
    "version": 3
   },
   "file_extension": ".py",
   "mimetype": "text/x-python",
   "name": "python",
   "nbconvert_exporter": "python",
   "pygments_lexer": "ipython3",
   "version": "3.10.12"
  }
 },
 "nbformat": 4,
 "nbformat_minor": 2
}
