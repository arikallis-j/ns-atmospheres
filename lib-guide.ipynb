{
 "cells": [
  {
   "cell_type": "markdown",
   "metadata": {},
   "source": [
    "# Библиотека __atmons__"
   ]
  },
  {
   "cell_type": "markdown",
   "metadata": {},
   "source": [
    "### Импорт библиотеки"
   ]
  },
  {
   "cell_type": "code",
   "execution_count": 1,
   "metadata": {},
   "outputs": [],
   "source": [
    "from atmons import *\n",
    "# from atmons.cli import *\n",
    "# from atmons.ns import *"
   ]
  },
  {
   "cell_type": "markdown",
   "metadata": {},
   "source": [
    "### Создание собственных config-файлов"
   ]
  },
  {
   "cell_type": "code",
   "execution_count": 5,
   "metadata": {},
   "outputs": [],
   "source": [
    "config, grid = loader()"
   ]
  },
  {
   "cell_type": "code",
   "execution_count": 6,
   "metadata": {},
   "outputs": [
    {
     "data": {
      "text/plain": [
       "{'name': 'J0000+0000',\n",
       " 'fc_key': 1,\n",
       " 'flux_key': 1,\n",
       " 'chem': 's1',\n",
       " 'rel': False,\n",
       " 'r_ns': 12.0,\n",
       " 'm_ns': 1.5,\n",
       " 'v_rot': 700.0,\n",
       " 'i_ang': 60.0}"
      ]
     },
     "execution_count": 6,
     "metadata": {},
     "output_type": "execute_result"
    }
   ],
   "source": [
    "config"
   ]
  },
  {
   "cell_type": "code",
   "execution_count": 7,
   "metadata": {},
   "outputs": [
    {
     "data": {
      "text/plain": [
       "{'n_phi': 120,\n",
       " 'n_theta': 60,\n",
       " 'n_nu': 500,\n",
       " 'rng_phi': [0, 360],\n",
       " 'rng_theta': [0, 180],\n",
       " 'rng_erg': [0.1, 50.0],\n",
       " 'unnull': True,\n",
       " 'zsch_key': False}"
      ]
     },
     "execution_count": 7,
     "metadata": {},
     "output_type": "execute_result"
    }
   ],
   "source": [
    "grid"
   ]
  },
  {
   "cell_type": "code",
   "execution_count": 9,
   "metadata": {},
   "outputs": [],
   "source": [
    "config['chem'] = 'he'\n",
    "config['i_ang'] = 30\n",
    "grid['n_nu'] = 1000\n",
    "\n",
    "dumper('test', config, grid)"
   ]
  },
  {
   "cell_type": "markdown",
   "metadata": {},
   "source": [
    "### Создание модели по config-файлам"
   ]
  },
  {
   "cell_type": "code",
   "execution_count": 10,
   "metadata": {},
   "outputs": [],
   "source": [
    "config, grid = loader(\"test\")\n",
    "ns = NeurtonStar(config, grid)"
   ]
  },
  {
   "cell_type": "markdown",
   "metadata": {},
   "source": [
    "### Параметры нейтронной звезды"
   ]
  },
  {
   "cell_type": "code",
   "execution_count": 23,
   "metadata": {},
   "outputs": [
    {
     "data": {
      "text/plain": [
       "['r',\n",
       " 'm',\n",
       " 'r_eq',\n",
       " 'm_cor',\n",
       " 'R',\n",
       " 'M',\n",
       " 'R_func',\n",
       " 'W',\n",
       " 'w_args',\n",
       " 'R_sch',\n",
       " 'zsch',\n",
       " 'g',\n",
       " 'log_g',\n",
       " 'area_0',\n",
       " 'X_hyd',\n",
       " 'sigma_T',\n",
       " 'w_b',\n",
       " 'T_c',\n",
       " 'Flux_edd',\n",
       " 'T_edd',\n",
       " 'Theta_edd',\n",
       " 'Epsilon_edd',\n",
       " 'Lum_edd',\n",
       " 'Lum_obs',\n",
       " 'nu_rot',\n",
       " 'incl_ang',\n",
       " 'sin_i',\n",
       " 'cos_i',\n",
       " 'omega_rot',\n",
       " 'v_cr',\n",
       " 'v_rel',\n",
       " 'M_cor',\n",
       " 'R_eq',\n",
       " 'R_sch_cor',\n",
       " 'chi',\n",
       " 'Omega',\n",
       " 'q_c',\n",
       " 'b_c',\n",
       " 'i_bar',\n",
       " 'I',\n",
       " 'J',\n",
       " 'g_0']"
      ]
     },
     "execution_count": 23,
     "metadata": {},
     "output_type": "execute_result"
    }
   ],
   "source": [
    "param = ns.param.__dict__\n",
    "param_keys = []\n",
    "\n",
    "for key, val in param.items():\n",
    "    param_keys.append(key)\n",
    "\n",
    "param_keys"
   ]
  },
  {
   "cell_type": "markdown",
   "metadata": {},
   "source": [
    "### Параметры поверхности"
   ]
  },
  {
   "cell_type": "code",
   "execution_count": 24,
   "metadata": {},
   "outputs": [
    {
     "data": {
      "text/plain": [
       "['r',\n",
       " 'm',\n",
       " 'r_eq',\n",
       " 'm_cor',\n",
       " 'R',\n",
       " 'M',\n",
       " 'R_func',\n",
       " 'W',\n",
       " 'w_args',\n",
       " 'R_sch',\n",
       " 'zsch',\n",
       " 'g',\n",
       " 'log_g',\n",
       " 'area_0',\n",
       " 'X_hyd',\n",
       " 'sigma_T',\n",
       " 'w_b',\n",
       " 'T_c',\n",
       " 'Flux_edd',\n",
       " 'T_edd',\n",
       " 'Theta_edd',\n",
       " 'Epsilon_edd',\n",
       " 'Lum_edd',\n",
       " 'Lum_obs',\n",
       " 'nu_rot',\n",
       " 'incl_ang',\n",
       " 'sin_i',\n",
       " 'cos_i',\n",
       " 'omega_rot',\n",
       " 'v_cr',\n",
       " 'v_rel',\n",
       " 'M_cor',\n",
       " 'R_eq',\n",
       " 'R_sch_cor',\n",
       " 'chi',\n",
       " 'Omega',\n",
       " 'q_c',\n",
       " 'b_c',\n",
       " 'i_bar',\n",
       " 'I',\n",
       " 'J',\n",
       " 'g_0']"
      ]
     },
     "execution_count": 24,
     "metadata": {},
     "output_type": "execute_result"
    }
   ],
   "source": [
    "surface = ns.surface.__dict__\n",
    "\n",
    "surf_keys = []\n",
    "\n",
    "for key, val in param.items():\n",
    "    surf_keys.append(key)\n",
    "\n",
    "surf_keys"
   ]
  },
  {
   "cell_type": "markdown",
   "metadata": {},
   "source": [
    "### Создание генератора вспышки"
   ]
  },
  {
   "cell_type": "code",
   "execution_count": 26,
   "metadata": {},
   "outputs": [],
   "source": [
    "burst = ns.burst"
   ]
  },
  {
   "cell_type": "markdown",
   "metadata": {},
   "source": [
    "### Моделирование вспышки"
   ]
  },
  {
   "cell_type": "code",
   "execution_count": 27,
   "metadata": {},
   "outputs": [
    {
     "name": "stdout",
     "output_type": "stream",
     "text": [
      "0.09204906612071873\n",
      "0.13878431357697116\n",
      "0.18524187061464664\n",
      "0.2786573510246629\n",
      "0.3737243337350447\n",
      "0.46676396792981495\n",
      "0.5134358873122233\n",
      "0.5609798337657472\n",
      "0.6071356025050209\n",
      "0.6537805272619603\n",
      "0.7019120295035042\n",
      "0.7496984401960749\n",
      "0.7997030260811445\n",
      "0.8501787146164804\n",
      "0.9009644806676815\n",
      "0.9310194581123781\n",
      "0.9542133903716915\n",
      "0.9758112466680301\n",
      "1.0000589784846279\n",
      "1.025020413459668\n",
      "1.0492546154905287\n",
      "1.049254615491008\n",
      "1.049254615491008\n"
     ]
    }
   ],
   "source": [
    "for shot in burst:\n",
    "    print(shot.lum)"
   ]
  },
  {
   "cell_type": "markdown",
   "metadata": {},
   "source": [
    "### Параметры снимка"
   ]
  },
  {
   "cell_type": "code",
   "execution_count": 28,
   "metadata": {},
   "outputs": [
    {
     "data": {
      "text/plain": [
       "['n_model',\n",
       " 'flux',\n",
       " 'Flux',\n",
       " 'T_eff',\n",
       " 'Epsilon_eff',\n",
       " 'Flux_edd_real',\n",
       " 'wwf_T',\n",
       " 'tcf_T',\n",
       " 'tcf_T_E',\n",
       " 'wwf_T_E',\n",
       " 'rho',\n",
       " 'I_e',\n",
       " 'B_Omega',\n",
       " 'B_int',\n",
       " 'dOmega_real',\n",
       " 'area_real',\n",
       " 'cos_sig_E',\n",
       " 'B_int_real',\n",
       " 'B_real',\n",
       " 'Lum',\n",
       " 'lum',\n",
       " 'E_null',\n",
       " 'w',\n",
       " 'fc']"
      ]
     },
     "execution_count": 28,
     "metadata": {},
     "output_type": "execute_result"
    }
   ],
   "source": [
    "shot = ns.shot.__dict__\n",
    "\n",
    "shot_keys = []\n",
    "\n",
    "for key, val in shot.items():\n",
    "    shot_keys.append(key)\n",
    "\n",
    "shot_keys"
   ]
  }
 ],
 "metadata": {
  "kernelspec": {
   "display_name": "Python 3",
   "language": "python",
   "name": "python3"
  },
  "language_info": {
   "codemirror_mode": {
    "name": "ipython",
    "version": 3
   },
   "file_extension": ".py",
   "mimetype": "text/x-python",
   "name": "python",
   "nbconvert_exporter": "python",
   "pygments_lexer": "ipython3",
   "version": "3.10.12"
  }
 },
 "nbformat": 4,
 "nbformat_minor": 2
}
