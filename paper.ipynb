{
 "cells": [
  {
   "cell_type": "markdown",
   "metadata": {},
   "source": [
    "# Библиотека __atmons__"
   ]
  },
  {
   "cell_type": "code",
   "execution_count": 1,
   "metadata": {},
   "outputs": [],
   "source": [
    "from atmons import *\n",
    "import matplotlib.pyplot as plt"
   ]
  },
  {
   "cell_type": "code",
   "execution_count": 2,
   "metadata": {},
   "outputs": [
    {
     "name": "stdout",
     "output_type": "stream",
     "text": [
      "1  | 0.115452\n",
      "2  | 0.173035\n",
      "3  | 0.230661\n",
      "4  | 0.345663\n",
      "5  | 0.461324\n",
      "6  | 0.577974\n",
      "7  | 0.635186\n",
      "8  | 0.692166\n",
      "9  | 0.748806\n",
      "10 | 0.808123\n",
      "11 | 0.866032\n",
      "12 | 0.923209\n",
      "13 | 0.981114\n",
      "14 | 1.039087\n",
      "15 | 1.097004\n",
      "16 | 1.131905\n",
      "17 | 1.155052\n",
      "18 | 1.174328\n",
      "19 | 1.199019\n",
      "20 | 1.219407\n",
      "21 | 1.222086\n",
      "22 | 1.227322\n",
      "23 | 1.233728\n"
     ]
    }
   ],
   "source": [
    "config, grid = loader()\n",
    "config['spec_key'] = 'be'\n",
    "config['chem'] = 's1'\n",
    "\n",
    "grid['n_nu'] = 500\n",
    "grid['n_theta'] = 6\n",
    "grid['n_phi'] = 12\n",
    "\n",
    "dumper('paper', config, grid)\n",
    "config, grid = loader(\"paper\")\n",
    "\n",
    "ns = NeurtonStar(config,grid)\n",
    "burst = ns.burst()\n",
    "counter = 1\n",
    "Lum = []\n",
    "\n",
    "for shot in burst:\n",
    "    print(f\"{counter:<3}| {shot.lum:.6f}\")\n",
    "    # if FLUX_REL[counter-1] == 0.1:\n",
    "    #     plt.loglog(shot.E_null/shot.E_null.unit, shot.B_real/shot.B_real.unit/10**36, linestyle='dashed', color='blue')\n",
    "    #     break\n",
    "    counter += 1"
   ]
  },
  {
   "cell_type": "code",
   "execution_count": 3,
   "metadata": {},
   "outputs": [
    {
     "name": "stdout",
     "output_type": "stream",
     "text": [
      "1  | 0.119120\n",
      "1  | 0.097651\n"
     ]
    },
    {
     "data": {
      "image/png": "[encoded data removed]",
      "text/plain": [
       "<Figure size 504x504 with 1 Axes>"
      ]
     },
     "metadata": {},
     "output_type": "display_data"
    }
   ],
   "source": [
    "plt.style.use('seaborn-whitegrid')\n",
    "_, ax = plt.subplots(figsize=(7,7))\n",
    "\n",
    "ax.set_title(\"$L_E(\\\\varepsilon)$\", loc='center', fontsize=20)\n",
    "ax.set_xlabel(\"$\\\\varepsilon, keV$\")\n",
    "ax.set_ylabel(\"$L_E, 10^{36} erg s^{-1} keV^{-1} sr^{-1} $\")\n",
    "\n",
    "ax.set_ylim(0.003, 0.5)\n",
    "ax.set_xlim(1.0, 20)\n",
    "ax.grid(True, which='minor')\n",
    "\n",
    "config, grid = loader()\n",
    "config['spec_key'] = 'be'\n",
    "config['chem'] = 's1'\n",
    "config['rel'] = True\n",
    "\n",
    "config['m_ns'] = 1.519\n",
    "config['r_ns'] = 15.48\n",
    "config['v_rot'] = 700\n",
    "\n",
    "grid['n_nu'] = 500\n",
    "grid['n_theta'] = 30\n",
    "grid['n_phi'] = 60\n",
    "grid['rng_erg'] = [1.0, 50.0]\n",
    "config['i_ang'] = 0 # 45 # 90 \n",
    "config['flux_key'] = 1 # 2\n",
    "\n",
    "dumper('paper', config, grid)\n",
    "config, grid = loader(\"paper\")\n",
    "\n",
    "ns = NeurtonStar(config,grid)\n",
    "burst = ns.burst()\n",
    "counter = 1\n",
    "Lum = []\n",
    "for shot in burst:\n",
    "    print(f\"{counter:<3}| {shot.lum:.6f}\")\n",
    "    if FLUX_REL[counter-1] == 0.1:\n",
    "        ax.loglog(shot.E_null/shot.E_null.unit, shot.B_real/shot.B_real.unit/10**36, color='blue')\n",
    "        break\n",
    "    counter += 1\n",
    "\n",
    "\n",
    "config, grid = loader(\"paper\")\n",
    "config['spec_key'] = 'wfc'\n",
    "\n",
    "dumper('paper', config, grid)\n",
    "config, grid = loader(\"paper\")\n",
    "\n",
    "ns = NeurtonStar(config,grid)\n",
    "burst = ns.burst()\n",
    "counter = 1\n",
    "Lum = []\n",
    "for shot in burst:\n",
    "    print(f\"{counter:<3}| {shot.lum:.6f}\")\n",
    "    if FLUX_REL[counter-1] == 0.1:\n",
    "        ax.loglog(shot.E_null/shot.E_null.unit, shot.B_real/shot.B_real.unit/10**36, linestyle='dashed', color='blue')\n",
    "        break\n",
    "    counter += 1\n",
    "\n",
    "\n",
    "plt.savefig('graph/' + \"fig_7b\" + '.pdf')\n"
   ]
  },
  {
   "cell_type": "code",
   "execution_count": 9,
   "metadata": {},
   "outputs": [
    {
     "data": {
      "text/plain": [
       "3.141592653589793"
      ]
     },
     "execution_count": 9,
     "metadata": {},
     "output_type": "execute_result"
    }
   ],
   "source": [
    "import astropy.units as u \n",
    "PI"
   ]
  },
  {
   "cell_type": "code",
   "execution_count": 4,
   "metadata": {},
   "outputs": [],
   "source": [
    "# burst = ns.burst()\n",
    "# counter = 1\n",
    "# Lum = []\n",
    "# plt.style.use('seaborn-whitegrid')\n",
    "# for shot in burst:\n",
    "#     print(f\"{counter:<3}| {shot.lum:.6f}\")\n",
    "#     plt.plot(log(shot.E_null/shot.E_null.unit), log(shot.B_real/shot.B_real.unit) - 36,)\n",
    "#     counter += 1"
   ]
  },
  {
   "cell_type": "code",
   "execution_count": 5,
   "metadata": {},
   "outputs": [
    {
     "name": "stdout",
     "output_type": "stream",
     "text": [
      "flux: \n",
      "Flux: erg / (s cm2)\n",
      "T_eff: K\n",
      "Epsilon_eff: keV\n",
      "Flux_edd_real: erg / (s cm2)\n",
      "wwf_T: \n",
      "tcf_T: keV\n",
      "tcf_T_E: keV\n",
      "wwf_T_E: \n",
      "rho: erg / (keV s cm2)\n",
      "I_e: erg / (keV s cm2)\n",
      "B_Omega: erg / (keV s cm2)\n",
      "B_int: erg / (keV s)\n",
      "dOmega_real: cm2\n",
      "area_real: cm2\n",
      "B_int_real: erg / (keV s)\n",
      "B_real: erg / (keV s)\n",
      "Lum: erg / s\n",
      "lum: \n",
      "E_null: keV\n"
     ]
    }
   ],
   "source": [
    "dshot = shot._output()\n",
    "for key in dshot:\n",
    "    if str(type(dshot[key])) != \"<class 'function'>\" and str(type(dshot[key])) != \"<class 'tuple'>\" and str(type(dshot[key])) != \"<class 'int'>\" :\n",
    "        if str(type(dshot[key])) != \"<class 'numpy.ndarray'>\" and str(type(dshot[key])) != \"<class 'numpy.float64'>\":\n",
    "            print(f\"{key}: {dshot[key].unit}\")\n",
    "        # if str(type(dshot[key])) == \"<class 'numpy.ndarray'>\":\n",
    "        #     print(f\"{key}: {type(dshot[key])}\")"
   ]
  },
  {
   "cell_type": "code",
   "execution_count": 8,
   "metadata": {},
   "outputs": [
    {
     "name": "stdout",
     "output_type": "stream",
     "text": [
      "1.28018815744\n"
     ]
    }
   ],
   "source": [
    "print(dshot['fc'])"
   ]
  },
  {
   "cell_type": "code",
   "execution_count": 6,
   "metadata": {},
   "outputs": [
    {
     "name": "stdout",
     "output_type": "stream",
     "text": [
      "r_0: km | R_0: cm | phi_init: deg | theta_init: deg | theta_init_sym: deg | phi: rad | theta: rad | theta_sym: rad | r_init: km | R: cm | sin_th:  | cos_th:  | sin_ph:  | cos_ph:  | dR: cm | u:  | r_bar: cm | u_bar:  | nu:  | B:  | zeta:  | omega_bar: 1 / s | beta_ph:  | g_th:  | f_th:  | sin_eta:  | cos_eta:  | beta:  | gamma:  | grv: cm / s2 | log_g:  | sin_psi:  | cos_psi:  | G_yu:  | D:  | sin_a:  | cos_a:  | cos_chi:  | cos_sig:  | cos_xi:  | delta:  | cos_sig_1:  | E: keV | dE: keV | E_real: keV | dS: cm2 | area: cm2 | R_pr: cm | dOmega: cm2 | dOmega_E: cm2 | "
     ]
    }
   ],
   "source": [
    "dsurf = surf._output()\n",
    "for key in dsurf:\n",
    "    if str(type(dsurf[key])) != \"<class 'function'>\" and str(type(dsurf[key])) != \"<class 'tuple'>\":\n",
    "        if str(type(dsurf[key])) != \"<class 'numpy.ndarray'>\":\n",
    "            print(f\"{key}: {dsurf[key].unit}\", end=\" | \")\n",
    "        # if str(type(dsurf[key])) == \"<class 'numpy.ndarray'>\":\n",
    "        #     print(f\"{key}: {type(dsurf[key])}\")"
   ]
  },
  {
   "cell_type": "code",
   "execution_count": 12,
   "metadata": {},
   "outputs": [
    {
     "name": "stdout",
     "output_type": "stream",
     "text": [
      "[[[9.43612482e+10 9.43612482e+10 9.43612482e+10 ... 9.43612482e+10\n",
      "   9.43612482e+10 9.43612482e+10]\n",
      "  [2.64132886e+11 2.64132886e+11 2.64132886e+11 ... 2.64132886e+11\n",
      "   2.64132886e+11 2.64132886e+11]\n",
      "  [4.11040017e+11 4.11040017e+11 4.11040017e+11 ... 4.11040017e+11\n",
      "   4.11040017e+11 4.11040017e+11]\n",
      "  [3.14883296e+11 3.14883296e+11 3.14883296e+11 ... 3.14883296e+11\n",
      "   3.14883296e+11 3.14883296e+11]\n",
      "  [1.15381252e+11 1.15381252e+11 1.15381252e+11 ... 1.15381252e+11\n",
      "   1.15381252e+11 1.15381252e+11]\n",
      "  [1.95715899e+10 1.95715899e+10 1.95715899e+10 ... 1.95715899e+10\n",
      "   1.95715899e+10 1.95715899e+10]]\n",
      "\n",
      " [[9.10670338e+10 9.10670338e+10 9.10670338e+10 ... 9.10670338e+10\n",
      "   9.10670338e+10 9.10670338e+10]\n",
      "  [2.40241128e+11 2.40241128e+11 2.40241128e+11 ... 2.40241128e+11\n",
      "   2.40241128e+11 2.40241128e+11]\n",
      "  [3.53067074e+11 3.53067074e+11 3.53067074e+11 ... 3.53067074e+11\n",
      "   3.53067074e+11 3.53067074e+11]\n",
      "  [2.56436309e+11 2.56436309e+11 2.56436309e+11 ... 2.56436309e+11\n",
      "   2.56436309e+11 2.56436309e+11]\n",
      "  [9.11187386e+10 9.11187386e+10 9.11187386e+10 ... 9.11187386e+10\n",
      "   9.11187386e+10 9.11187386e+10]\n",
      "  [1.62681876e+10 1.62681876e+10 1.62681876e+10 ... 1.62681876e+10\n",
      "   1.62681876e+10 1.62681876e+10]]\n",
      "\n",
      " [[8.54060280e+10 8.54060280e+10 8.54060280e+10 ... 8.54060280e+10\n",
      "   8.54060280e+10 8.54060280e+10]\n",
      "  [1.99386213e+11 1.99386213e+11 1.99386213e+11 ... 1.99386213e+11\n",
      "   1.99386213e+11 1.99386213e+11]\n",
      "  [2.53296986e+11 2.53296986e+11 2.53296986e+11 ... 2.53296986e+11\n",
      "   2.53296986e+11 2.53296986e+11]\n",
      "  [1.55003286e+11 1.55003286e+11 1.55003286e+11 ... 1.55003286e+11\n",
      "   1.55003286e+11 1.55003286e+11]\n",
      "  [4.89093586e+10 4.89093586e+10 4.89093586e+10 ... 4.89093586e+10\n",
      "   4.89093586e+10 4.89093586e+10]\n",
      "  [1.05603571e+10 1.05603571e+10 1.05603571e+10 ... 1.05603571e+10\n",
      "   1.05603571e+10 1.05603571e+10]]\n",
      "\n",
      " ...\n",
      "\n",
      " [[8.54060280e+10 8.54060280e+10 8.54060280e+10 ... 8.54060280e+10\n",
      "   8.54060280e+10 8.54060280e+10]\n",
      "  [1.99386213e+11 1.99386213e+11 1.99386213e+11 ... 1.99386213e+11\n",
      "   1.99386213e+11 1.99386213e+11]\n",
      "  [2.53296986e+11 2.53296986e+11 2.53296986e+11 ... 2.53296986e+11\n",
      "   2.53296986e+11 2.53296986e+11]\n",
      "  [1.55003286e+11 1.55003286e+11 1.55003286e+11 ... 1.55003286e+11\n",
      "   1.55003286e+11 1.55003286e+11]\n",
      "  [4.89093586e+10 4.89093586e+10 4.89093586e+10 ... 4.89093586e+10\n",
      "   4.89093586e+10 4.89093586e+10]\n",
      "  [1.05603571e+10 1.05603571e+10 1.05603571e+10 ... 1.05603571e+10\n",
      "   1.05603571e+10 1.05603571e+10]]\n",
      "\n",
      " [[9.10670338e+10 9.10670338e+10 9.10670338e+10 ... 9.10670338e+10\n",
      "   9.10670338e+10 9.10670338e+10]\n",
      "  [2.40241128e+11 2.40241128e+11 2.40241128e+11 ... 2.40241128e+11\n",
      "   2.40241128e+11 2.40241128e+11]\n",
      "  [3.53067074e+11 3.53067074e+11 3.53067074e+11 ... 3.53067074e+11\n",
      "   3.53067074e+11 3.53067074e+11]\n",
      "  [2.56436309e+11 2.56436309e+11 2.56436309e+11 ... 2.56436309e+11\n",
      "   2.56436309e+11 2.56436309e+11]\n",
      "  [9.11187386e+10 9.11187386e+10 9.11187386e+10 ... 9.11187386e+10\n",
      "   9.11187386e+10 9.11187386e+10]\n",
      "  [1.62681876e+10 1.62681876e+10 1.62681876e+10 ... 1.62681876e+10\n",
      "   1.62681876e+10 1.62681876e+10]]\n",
      "\n",
      " [[9.43612482e+10 9.43612482e+10 9.43612482e+10 ... 9.43612482e+10\n",
      "   9.43612482e+10 9.43612482e+10]\n",
      "  [2.64132886e+11 2.64132886e+11 2.64132886e+11 ... 2.64132886e+11\n",
      "   2.64132886e+11 2.64132886e+11]\n",
      "  [4.11040017e+11 4.11040017e+11 4.11040017e+11 ... 4.11040017e+11\n",
      "   4.11040017e+11 4.11040017e+11]\n",
      "  [3.14883296e+11 3.14883296e+11 3.14883296e+11 ... 3.14883296e+11\n",
      "   3.14883296e+11 3.14883296e+11]\n",
      "  [1.15381252e+11 1.15381252e+11 1.15381252e+11 ... 1.15381252e+11\n",
      "   1.15381252e+11 1.15381252e+11]\n",
      "  [1.95715899e+10 1.95715899e+10 1.95715899e+10 ... 1.95715899e+10\n",
      "   1.95715899e+10 1.95715899e+10]]] cm2\n"
     ]
    }
   ],
   "source": [
    "print(dsurf['dOmega_E'])\n",
    "# self.theta, self.cos_eta, self.R, N_ph, N_th, self.ph_range, self.th_range"
   ]
  },
  {
   "cell_type": "code",
   "execution_count": 8,
   "metadata": {},
   "outputs": [
    {
     "name": "stdout",
     "output_type": "stream",
     "text": [
      "r: km | m: solMass | r_eq: km | m_cor: solMass | R: cm | M: g | R_sch: cm | zsch:  | g: cm / s2 | log_g:  | area_0: cm2 | X_hyd:  | kappa_e: cm2 / g | w_b:  | T_c: keV | Flux_edd: erg / (s cm2) | T_edd: K | Theta_edd: erg | Epsilon_edd: keV | Lum_edd: erg / s | Lum_obs: erg / s | nu_rot: Hz | incl_ang: rad | sin_i:  | cos_i:  | omega_rot: 1 / s | v_cr: Hz | v_rel:  | M_cor: g | R_eq: cm | R_sch_cor: cm | chi:  | Omega:  | q_c:  | b_c:  | i_bar:  | I: cm2 g | J: cm2 g / s | g_0: cm / s2 | "
     ]
    }
   ],
   "source": [
    "dns = par._output()\n",
    "for key in dns:\n",
    "    if str(type(dns[key])) != \"<class 'function'>\" and str(type(dns[key])) != \"<class 'tuple'>\":\n",
    "        print(f\"{key}: {dns[key].unit}\", end=\" | \")"
   ]
  },
  {
   "cell_type": "code",
   "execution_count": 67,
   "metadata": {},
   "outputs": [
    {
     "name": "stdout",
     "output_type": "stream",
     "text": [
      "15.0 m / s\n",
      "m / s\n",
      "15.0\n",
      "[1. 2. 3.] m\n",
      "35.0 m / s\n",
      "8.639999999999999 km / h\n",
      "2.4 m / s\n",
      "240.0 cm / s\n",
      "0.2\n",
      "0.49999999999999994\n",
      "0.9952122548924741\n",
      "[0. 1. 2. 3. 4.]\n",
      "[0. 1. 2. 3. 4.] m\n",
      "[0. 1. 2. 3. 4.] m\n",
      "0.5 c\n"
     ]
    }
   ],
   "source": [
    "import astropy.units as u \n",
    "# create units\n",
    "speed = 15 * u.m / u.s  \n",
    "print(speed)\n",
    "\n",
    "# dimensionality of units\n",
    "print(speed.unit)\n",
    "# value of units\n",
    "print(speed.value)\n",
    "\n",
    "# array of units\n",
    "L = np.array([1, 2, 3]) * u.m \n",
    "print(L)\n",
    "\n",
    "# object contructor\n",
    "v_0 = u.Quantity(20, u.m / u.s) \n",
    "u_0 = u.Quantity('15 m/s')\n",
    "print(v_0 + u_0)\n",
    "\n",
    "# translation to other systems\n",
    "q = 2.4 * u.m / u.s \n",
    "# to specific units\n",
    "print(q.to(u.km / u.h))\n",
    "# to SI\n",
    "print(q.si)\n",
    "# to CGS\n",
    "print(q.cgs)\n",
    "\n",
    "# simplifing units\n",
    "kappa = 20. * u.cm / (1. * u.m)\n",
    "print(kappa.decompose())\n",
    "\n",
    "# angle units\n",
    "q = 30. * u.deg\n",
    "import numpy as np\n",
    "print(np.sin(q))\n",
    "\n",
    "from astropy.constants import h, k_B, c\n",
    "nu = 3 * u.GHz\n",
    "T = 30 * u.K\n",
    "print(np.exp(-h * nu / (k_B * T)))\n",
    "\n",
    "\n",
    "a = np.arange(5.)\n",
    "print(a)\n",
    "b = a << u.m\n",
    "print(b)\n",
    "a <<= u.m\n",
    "print(a)\n",
    "\n",
    "v_1 = 0.5 * c\n",
    "print(v_1.to(u.cds.c))"
   ]
  },
  {
   "cell_type": "code",
   "execution_count": null,
   "metadata": {},
   "outputs": [],
   "source": [
    "config, grid = loader()\n",
    "# config['spec_key'] = 'be'\n",
    "# config['spec_key'] = 'wfc'\n",
    "grid['n_nu'] = 500\n",
    "grid['n_theta'] = 6\n",
    "grid['n_phi'] = 12\n",
    "\n",
    "dumper('paper', config, grid)\n",
    "config, grid = loader(\"paper\")"
   ]
  },
  {
   "cell_type": "code",
   "execution_count": 3,
   "metadata": {},
   "outputs": [],
   "source": [
    "ns = NeurtonStar(config, grid)"
   ]
  },
  {
   "cell_type": "code",
   "execution_count": 10,
   "metadata": {},
   "outputs": [
    {
     "name": "stdout",
     "output_type": "stream",
     "text": [
      "1  | 0.095424\n",
      "2  | 0.139533\n",
      "3  | 0.183614\n",
      "4  | 0.274545\n",
      "5  | 0.369609\n",
      "6  | 0.466145\n",
      "7  | 0.514195\n",
      "8  | 0.562156\n",
      "9  | 0.610019\n",
      "10 | 0.659162\n",
      "11 | 0.707506\n",
      "12 | 0.755926\n",
      "13 | 0.805268\n",
      "14 | 0.854967\n",
      "15 | 0.907093\n",
      "16 | 0.938632\n",
      "17 | 0.962140\n",
      "18 | 0.980288\n",
      "19 | 1.005630\n",
      "20 | 1.028167\n",
      "21 | 1.032319\n",
      "22 | 1.032319\n",
      "23 | 1.032319\n"
     ]
    },
    {
     "data": {
      "image/png": "[encoded data removed]",
      "text/plain": [
       "<Figure size 432x288 with 1 Axes>"
      ]
     },
     "metadata": {},
     "output_type": "display_data"
    }
   ],
   "source": [
    "burst = ns.burst()\n",
    "counter = 1\n",
    "Lum = []\n",
    "plt.style.use('seaborn-whitegrid')\n",
    "for shot in burst:\n",
    "    print(f\"{counter:<3}| {shot.lum:.6f}\")\n",
    "    plt.plot(log(shot.E_null), log(shot.B_real) - 36,)\n",
    "    counter += 1\n"
   ]
  },
  {
   "cell_type": "code",
   "execution_count": 7,
   "metadata": {},
   "outputs": [
    {
     "name": "stdout",
     "output_type": "stream",
     "text": [
      "1  | 0.095456\n",
      "2  | 0.139585\n",
      "3  | 0.183680\n",
      "4  | 0.274633\n",
      "5  | 0.369726\n",
      "6  | 0.466290\n",
      "7  | 0.514356\n",
      "8  | 0.562322\n",
      "9  | 0.610211\n",
      "10 | 0.659363\n",
      "11 | 0.707727\n",
      "12 | 0.756158\n",
      "13 | 0.805521\n",
      "14 | 0.855231\n",
      "15 | 0.907378\n",
      "16 | 0.938925\n",
      "17 | 0.962455\n",
      "18 | 0.980600\n",
      "19 | 1.005944\n",
      "20 | 1.028504\n",
      "21 | 1.032568\n",
      "22 | 1.032568\n",
      "23 | 1.032568\n"
     ]
    }
   ],
   "source": [
    "burst = ns.burst()\n",
    "counter = 1\n",
    "Lum_r, Fc_r, W_r = [], [], []\n",
    "\n",
    "for shot in burst:\n",
    "    print(f\"{counter:<3}| {shot.lum:.6f}\")\n",
    "    Lum_r.append(shot.lum)\n",
    "    Fc_r.append(shot.fc)\n",
    "    W_r.append(shot.w)\n",
    "    counter += 1"
   ]
  },
  {
   "cell_type": "code",
   "execution_count": null,
   "metadata": {},
   "outputs": [],
   "source": [
    "print(0.7658143407933556/1.032319186017881)"
   ]
  },
  {
   "cell_type": "code",
   "execution_count": 2,
   "metadata": {},
   "outputs": [
    {
     "ename": "AttributeError",
     "evalue": "module 'atmons.ns' has no attribute 'burst'",
     "output_type": "error",
     "traceback": [
      "\u001b[0;31m---------------------------------------------------------------------------\u001b[0m",
      "\u001b[0;31mAttributeError\u001b[0m                            Traceback (most recent call last)",
      "\u001b[0;32m/tmp/ipykernel_17365/504839589.py\u001b[0m in \u001b[0;36m<module>\u001b[0;34m\u001b[0m\n\u001b[0;32m----> 1\u001b[0;31m \u001b[0mburst\u001b[0m \u001b[0;34m=\u001b[0m \u001b[0mns\u001b[0m\u001b[0;34m.\u001b[0m\u001b[0mburst\u001b[0m\u001b[0;34m(\u001b[0m\u001b[0;34m)\u001b[0m\u001b[0;34m\u001b[0m\u001b[0;34m\u001b[0m\u001b[0m\n\u001b[0m\u001b[1;32m      2\u001b[0m \u001b[0mcounter\u001b[0m \u001b[0;34m=\u001b[0m \u001b[0;36m1\u001b[0m\u001b[0;34m\u001b[0m\u001b[0;34m\u001b[0m\u001b[0m\n\u001b[1;32m      3\u001b[0m \u001b[0mLum\u001b[0m\u001b[0;34m,\u001b[0m \u001b[0mFc\u001b[0m\u001b[0;34m,\u001b[0m \u001b[0mW\u001b[0m \u001b[0;34m=\u001b[0m \u001b[0;34m[\u001b[0m\u001b[0;34m]\u001b[0m\u001b[0;34m,\u001b[0m \u001b[0;34m[\u001b[0m\u001b[0;34m]\u001b[0m\u001b[0;34m,\u001b[0m \u001b[0;34m[\u001b[0m\u001b[0;34m]\u001b[0m\u001b[0;34m\u001b[0m\u001b[0;34m\u001b[0m\u001b[0m\n\u001b[1;32m      4\u001b[0m \u001b[0;34m\u001b[0m\u001b[0m\n\u001b[1;32m      5\u001b[0m \u001b[0;32mfor\u001b[0m \u001b[0mshot\u001b[0m \u001b[0;32min\u001b[0m \u001b[0mburst\u001b[0m\u001b[0;34m:\u001b[0m\u001b[0;34m\u001b[0m\u001b[0;34m\u001b[0m\u001b[0m\n",
      "\u001b[0;31mAttributeError\u001b[0m: module 'atmons.ns' has no attribute 'burst'"
     ]
    }
   ],
   "source": [
    "burst = ns.burst()\n",
    "counter = 1\n",
    "Lum, Fc, W = [], [], []\n",
    "\n",
    "for shot in burst:\n",
    "    print(f\"{counter:<3}| {shot.lum:.6f}\")\n",
    "    Lum.append(shot.lum)\n",
    "    Fc.append(shot.fc)\n",
    "    W.append(shot.w)\n",
    "    counter += 1"
   ]
  },
  {
   "cell_type": "code",
   "execution_count": 8,
   "metadata": {},
   "outputs": [
    {
     "name": "stdout",
     "output_type": "stream",
     "text": [
      "[<Quantity 0.09655216>, <Quantity 0.14470859>, <Quantity 0.19290063>, <Quantity 0.2890767>, <Quantity 0.38580342>, <Quantity 0.48335773>, <Quantity 0.53120363>, <Quantity 0.57885577>, <Quantity 0.62622376>, <Quantity 0.67582995>, <Quantity 0.72425908>, <Quantity 0.7720757>, <Quantity 0.82050203>, <Quantity 0.86898417>, <Quantity 0.91742015>, <Quantity 0.94660774>, <Quantity 0.96596574>, <Quantity 0.98208562>, <Quantity 1.00273522>, <Quantity 1.01978541>, <Quantity 1.02202563>, <Quantity 1.02640436>, <Quantity 1.03176201>]\n",
      "[0.15937783910400002, 0.15480104038400003, 0.146261152768, 0.131351979008, 0.12029071872, 0.11157308928000001, 0.10773047398400001, 0.103921378304, 0.099990477824, 0.09589717094400001, 0.09136121343999999, 0.08633082163199998, 0.08056235929599999, 0.07392749875200001, 0.065900575744, 0.06061770854400001, 0.05803195904000001, 0.05237047193600001, 0.047660526592000006, 0.040246727680000004, 0.03899521331200001, 0.03810977894400001, 0.038370827264]\n"
     ]
    },
    {
     "data": {
      "text/plain": [
       "[<matplotlib.lines.Line2D at 0x7ff936109330>]"
      ]
     },
     "execution_count": 8,
     "metadata": {},
     "output_type": "execute_result"
    },
    {
     "data": {
      "image/png": "[encoded data removed]",
      "text/plain": [
       "<Figure size 432x288 with 1 Axes>"
      ]
     },
     "metadata": {},
     "output_type": "display_data"
    }
   ],
   "source": [
    "print(Lum)\n",
    "print(W)\n",
    "plt.plot(Lum, W)"
   ]
  },
  {
   "cell_type": "code",
   "execution_count": 9,
   "metadata": {},
   "outputs": [
    {
     "name": "stdout",
     "output_type": "stream",
     "text": [
      "[<Quantity 0.09655216>, <Quantity 0.14470859>, <Quantity 0.19290063>, <Quantity 0.2890767>, <Quantity 0.38580342>, <Quantity 0.48335773>, <Quantity 0.53120363>, <Quantity 0.57885577>, <Quantity 0.62622376>, <Quantity 0.67582995>, <Quantity 0.72425908>, <Quantity 0.7720757>, <Quantity 0.82050203>, <Quantity 0.86898417>, <Quantity 0.91742015>, <Quantity 0.94660774>, <Quantity 0.96596574>, <Quantity 0.98208562>, <Quantity 1.00273522>, <Quantity 1.01978541>, <Quantity 1.02202563>, <Quantity 1.02640436>, <Quantity 1.03176201>]\n",
      "[1.5682310425600003, 1.5692456806400001, 1.5843744563200002, 1.62196016384, 1.6593162470400005, 1.6946360012800001, 1.7105935923200004, 1.7269966233600003, 1.7445892019200002, 1.7654426240000003, 1.78856853248, 1.81556108288, 1.84964496384, 1.89295813888, 1.953583488, 1.9981392179200002, 2.0152081817600003, 2.079143744, 2.13004818176, 2.23676818176, 2.24604818176, 2.24720818176, 2.21820818176]\n"
     ]
    },
    {
     "data": {
      "text/plain": [
       "[<matplotlib.lines.Line2D at 0x7ff9387b4160>]"
      ]
     },
     "execution_count": 9,
     "metadata": {},
     "output_type": "execute_result"
    },
    {
     "data": {
      "image/png": "[encoded data removed]",
      "text/plain": [
       "<Figure size 432x288 with 1 Axes>"
      ]
     },
     "metadata": {},
     "output_type": "display_data"
    }
   ],
   "source": [
    "print(Lum)\n",
    "print(Fc)\n",
    "plt.plot(Lum, Fc)"
   ]
  },
  {
   "cell_type": "code",
   "execution_count": 7,
   "metadata": {},
   "outputs": [
    {
     "ename": "NameError",
     "evalue": "name 'Lum_r' is not defined",
     "output_type": "error",
     "traceback": [
      "\u001b[0;31m---------------------------------------------------------------------------\u001b[0m",
      "\u001b[0;31mNameError\u001b[0m                                 Traceback (most recent call last)",
      "\u001b[0;32m/tmp/ipykernel_5818/3947401881.py\u001b[0m in \u001b[0;36m<module>\u001b[0;34m\u001b[0m\n\u001b[0;32m----> 1\u001b[0;31m \u001b[0mprint\u001b[0m\u001b[0;34m(\u001b[0m\u001b[0mLum_r\u001b[0m\u001b[0;34m)\u001b[0m\u001b[0;34m\u001b[0m\u001b[0;34m\u001b[0m\u001b[0m\n\u001b[0m\u001b[1;32m      2\u001b[0m \u001b[0mprint\u001b[0m\u001b[0;34m(\u001b[0m\u001b[0mFc_r\u001b[0m\u001b[0;34m)\u001b[0m\u001b[0;34m\u001b[0m\u001b[0;34m\u001b[0m\u001b[0m\n\u001b[1;32m      3\u001b[0m \u001b[0mplt\u001b[0m\u001b[0;34m.\u001b[0m\u001b[0mplot\u001b[0m\u001b[0;34m(\u001b[0m\u001b[0mLum_r\u001b[0m\u001b[0;34m,\u001b[0m \u001b[0mFc_r\u001b[0m\u001b[0;34m)\u001b[0m\u001b[0;34m\u001b[0m\u001b[0;34m\u001b[0m\u001b[0m\n",
      "\u001b[0;31mNameError\u001b[0m: name 'Lum_r' is not defined"
     ]
    }
   ],
   "source": [
    "print(Lum_r)\n",
    "print(Fc_r)\n",
    "plt.plot(Lum_r, Fc_r)"
   ]
  },
  {
   "cell_type": "code",
   "execution_count": 4,
   "metadata": {},
   "outputs": [
    {
     "data": {
      "text/plain": [
       "['Solarize_Light2',\n",
       " '_classic_test_patch',\n",
       " '_mpl-gallery',\n",
       " '_mpl-gallery-nogrid',\n",
       " 'bmh',\n",
       " 'classic',\n",
       " 'dark_background',\n",
       " 'fast',\n",
       " 'fivethirtyeight',\n",
       " 'ggplot',\n",
       " 'grayscale',\n",
       " 'seaborn',\n",
       " 'seaborn-bright',\n",
       " 'seaborn-colorblind',\n",
       " 'seaborn-dark',\n",
       " 'seaborn-dark-palette',\n",
       " 'seaborn-darkgrid',\n",
       " 'seaborn-deep',\n",
       " 'seaborn-muted',\n",
       " 'seaborn-notebook',\n",
       " 'seaborn-paper',\n",
       " 'seaborn-pastel',\n",
       " 'seaborn-poster',\n",
       " 'seaborn-talk',\n",
       " 'seaborn-ticks',\n",
       " 'seaborn-white',\n",
       " 'seaborn-whitegrid',\n",
       " 'tableau-colorblind10']"
      ]
     },
     "execution_count": 4,
     "metadata": {},
     "output_type": "execute_result"
    }
   ],
   "source": [
    "plt.style.available"
   ]
  },
  {
   "cell_type": "markdown",
   "metadata": {},
   "source": [
    "TODO:\n",
    "- Проверить границы E и dE\n",
    "- Понять, почему поток такой маленький\n",
    "- Возможно раскидать по файлам оригинальные спектры\n",
    "(походу слишком долго читается)"
   ]
  }
 ],
 "metadata": {
  "kernelspec": {
   "display_name": "Python 3",
   "language": "python",
   "name": "python3"
  },
  "language_info": {
   "codemirror_mode": {
    "name": "ipython",
    "version": 3
   },
   "file_extension": ".py",
   "mimetype": "text/x-python",
   "name": "python",
   "nbconvert_exporter": "python",
   "pygments_lexer": "ipython3",
   "version": "3.10.12"
  }
 },
 "nbformat": 4,
 "nbformat_minor": 2
}
